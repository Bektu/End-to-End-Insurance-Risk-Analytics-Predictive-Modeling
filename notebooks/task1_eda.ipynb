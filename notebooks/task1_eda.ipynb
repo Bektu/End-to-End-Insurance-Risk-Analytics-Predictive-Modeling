{
 "cells": [
  {
   "cell_type": "code",
   "execution_count": null,
   "id": "70771252",
   "metadata": {},
   "outputs": [
    {
     "name": "stdout",
     "output_type": "stream",
     "text": [
      "✅ Shape: (1000098, 52)\n",
      "✅ First 5 columns: ['UnderwrittenCoverID', 'PolicyID', 'TransactionMonth', 'IsVATRegistered', 'Citizenship']\n"
     ]
    }
   ],
   "source": [
    "import sys\n",
    "import os\n",
    "\n",
    "sys.path.append(os.path.abspath(os.path.join(os.getcwd(), '..')))\n",
    "#src_path=os.path.abspath('../src')\n",
    "#sys.path.append(src_path)\n",
    "\n",
    "from src.data_loader import load_data, parse_dates\n",
    "from src.eda import compute_loss_ratio, group_loss_ratio, check_missing, get_summary_stats\n",
    "from src.visualizations import plot_histogram, plot_boxplot, plot_loss_ratio_by_category\n",
    "# Correct load using pipe delimiter\n",
    "df = load_data(\"../data/raw/MachineLearningRating_v3.txt\", sep=\"|\", encoding=\"utf-8\")\n",
    "df['TotalClaims'] = pd.to_numeric(df['TotalClaims'], errors='coerce')\n",
    "df['TotalPremium'] = pd.to_numeric(df['TotalPremium'], errors='coerce')\n",
    "print(\"✅ Shape:\", df.shape)\n",
    "print(\"✅ First 5 columns:\", df.columns.tolist()[:5])\n"
   ]
  },
  {
   "cell_type": "code",
   "execution_count": 3,
   "id": "8d3428f9",
   "metadata": {},
   "outputs": [
    {
     "name": "stdout",
     "output_type": "stream",
     "text": [
      "0   2015-03-01\n",
      "1   2015-05-01\n",
      "2   2015-07-01\n",
      "3   2015-05-01\n",
      "4   2015-07-01\n",
      "Name: TransactionMonth, dtype: datetime64[ns]\n",
      "datetime64[ns]\n"
     ]
    }
   ],
   "source": [
    "# Clean column names\n",
    "df.columns = df.columns.str.strip().str.replace(\" \", \"\")\n",
    "\n",
    "# ✅ Now parse the date\n",
    "df = parse_dates(df, date_column=\"TransactionMonth\")\n",
    "\n",
    "# Confirm\n",
    "print(df[\"TransactionMonth\"].head())\n",
    "print(df[\"TransactionMonth\"].dtype)"
   ]
  },
  {
   "cell_type": "code",
   "execution_count": 4,
   "id": "e66ac022",
   "metadata": {},
   "outputs": [
    {
     "name": "stdout",
     "output_type": "stream",
     "text": [
      "Missing values:\n",
      " NumberOfVehiclesInFleet     1000098\n",
      "CrossBorder                  999400\n",
      "CustomValueEstimate          779642\n",
      "Rebuilt                      641901\n",
      "Converted                    641901\n",
      "WrittenOff                   641901\n",
      "NewVehicle                   153295\n",
      "Bank                         145961\n",
      "AccountType                   40232\n",
      "Gender                         9536\n",
      "MaritalStatus                  8259\n",
      "NumberOfDoors                   552\n",
      "VehicleType                     552\n",
      "kilowatts                       552\n",
      "cubiccapacity                   552\n",
      "Cylinders                       552\n",
      "Model                           552\n",
      "make                            552\n",
      "VehicleIntroDate                552\n",
      "bodytype                        552\n",
      "mmcode                          552\n",
      "CapitalOutstanding                2\n",
      "TermFrequency                     0\n",
      "CalculatedPremiumPerTerm          0\n",
      "ExcessSelected                    0\n",
      "CoverCategory                     0\n",
      "CoverType                         0\n",
      "CoverGroup                        0\n",
      "Section                           0\n",
      "Product                           0\n",
      "StatutoryClass                    0\n",
      "StatutoryRiskType                 0\n",
      "TotalPremium                      0\n",
      "SumInsured                        0\n",
      "UnderwrittenCoverID               0\n",
      "TrackingDevice                    0\n",
      "Country                           0\n",
      "TransactionMonth                  0\n",
      "IsVATRegistered                   0\n",
      "Citizenship                       0\n",
      "LegalType                         0\n",
      "Title                             0\n",
      "Language                          0\n",
      "Province                          0\n",
      "AlarmImmobiliser                  0\n",
      "PostalCode                        0\n",
      "MainCrestaZone                    0\n",
      "SubCrestaZone                     0\n",
      "ItemType                          0\n",
      "RegistrationYear                  0\n",
      "PolicyID                          0\n",
      "TotalClaims                       0\n",
      "dtype: int64\n"
     ]
    }
   ],
   "source": [
    "\n",
    "# Data Quality Checks\n",
    "missing = check_missing(df)\n",
    "print(\"Missing values:\\n\", missing)\n"
   ]
  },
  {
   "cell_type": "code",
   "execution_count": 5,
   "id": "d18c48e3",
   "metadata": {},
   "outputs": [
    {
     "name": "stdout",
     "output_type": "stream",
     "text": [
      "UnderwrittenCoverID\n",
      "PolicyID\n",
      "TransactionMonth\n",
      "IsVATRegistered\n",
      "Citizenship\n",
      "LegalType\n",
      "Title\n",
      "Language\n",
      "Bank\n",
      "AccountType\n",
      "MaritalStatus\n",
      "Gender\n",
      "Country\n",
      "Province\n",
      "PostalCode\n",
      "MainCrestaZone\n",
      "SubCrestaZone\n",
      "ItemType\n",
      "mmcode\n",
      "VehicleType\n",
      "RegistrationYear\n",
      "make\n",
      "Model\n",
      "Cylinders\n",
      "cubiccapacity\n",
      "kilowatts\n",
      "bodytype\n",
      "NumberOfDoors\n",
      "VehicleIntroDate\n",
      "CustomValueEstimate\n",
      "AlarmImmobiliser\n",
      "TrackingDevice\n",
      "CapitalOutstanding\n",
      "NewVehicle\n",
      "WrittenOff\n",
      "Rebuilt\n",
      "Converted\n",
      "CrossBorder\n",
      "NumberOfVehiclesInFleet\n",
      "SumInsured\n",
      "TermFrequency\n",
      "CalculatedPremiumPerTerm\n",
      "ExcessSelected\n",
      "CoverCategory\n",
      "CoverType\n",
      "CoverGroup\n",
      "Section\n",
      "Product\n",
      "StatutoryClass\n",
      "StatutoryRiskType\n",
      "TotalPremium\n",
      "TotalClaims\n"
     ]
    }
   ],
   "source": [
    "# Clean column names\n",
    "df.columns = df.columns.str.strip()               # Remove leading/trailing whitespace\n",
    "df.columns = df.columns.str.replace(\" \", \"\")      # Remove internal spaces (optional)\n",
    "#df.columns = df.columns.str.lower()               # Convert to lowercase\n",
    "for col in df.columns:\n",
    "    print(col)\n"
   ]
  },
  {
   "cell_type": "code",
   "execution_count": 6,
   "id": "d70c3ed4",
   "metadata": {},
   "outputs": [
    {
     "name": "stdout",
     "output_type": "stream",
     "text": [
      "\n",
      "Summary Stats:\n",
      "        TotalPremium   TotalClaims  CustomValueEstimate\n",
      "count  1.000098e+06  1.000098e+06         2.204560e+05\n",
      "mean   6.190550e+01  6.486119e+01         2.255311e+05\n",
      "std    2.302845e+02  2.384075e+03         5.645157e+05\n",
      "min   -7.825768e+02 -1.200241e+04         2.000000e+04\n",
      "25%    0.000000e+00  0.000000e+00         1.350000e+05\n",
      "50%    2.178333e+00  0.000000e+00         2.200000e+05\n",
      "75%    2.192982e+01  0.000000e+00         2.800000e+05\n",
      "max    6.528260e+04  3.930921e+05         2.655000e+07\n"
     ]
    }
   ],
   "source": [
    "# --- Summary Stats for Financial Columns ---\n",
    "key_numeric = ['TotalPremium', 'TotalClaims', 'CustomValueEstimate']\n",
    "summary_stats = get_summary_stats(df, key_numeric)\n",
    "print(\"\\nSummary Stats:\\n\", summary_stats)"
   ]
  },
  {
   "cell_type": "code",
   "execution_count": 9,
   "id": "c69076be",
   "metadata": {},
   "outputs": [
    {
     "name": "stdout",
     "output_type": "stream",
     "text": [
      "totalclaims     object\n",
      "totalpremium    object\n",
      "dtype: object\n"
     ]
    }
   ],
   "source": [
    "print(df[['totalclaims', 'totalpremium']].dtypes)"
   ]
  },
  {
   "cell_type": "code",
   "execution_count": 13,
   "id": "fe116ab8",
   "metadata": {},
   "outputs": [
    {
     "ename": "AttributeError",
     "evalue": "'StringMethods' object has no attribute 'lowerc'",
     "output_type": "error",
     "traceback": [
      "\u001b[31m---------------------------------------------------------------------------\u001b[39m",
      "\u001b[31mAttributeError\u001b[39m                            Traceback (most recent call last)",
      "\u001b[36mCell\u001b[39m\u001b[36m \u001b[39m\u001b[32mIn[13]\u001b[39m\u001b[32m, line 2\u001b[39m\n\u001b[32m      1\u001b[39m \u001b[38;5;28;01mfrom\u001b[39;00m\u001b[38;5;250m \u001b[39m\u001b[34;01msrc\u001b[39;00m\u001b[34;01m.\u001b[39;00m\u001b[34;01meda\u001b[39;00m\u001b[38;5;250m \u001b[39m\u001b[38;5;28;01mimport\u001b[39;00m compute_loss_ratio, group_loss_ratio\n\u001b[32m----> \u001b[39m\u001b[32m2\u001b[39m df.columns = \u001b[43mdf\u001b[49m\u001b[43m.\u001b[49m\u001b[43mcolumns\u001b[49m\u001b[43m.\u001b[49m\u001b[43mstr\u001b[49m\u001b[43m.\u001b[49m\u001b[43mlowerc\u001b[49m()\n\u001b[32m      4\u001b[39m \u001b[38;5;28mprint\u001b[39m(\u001b[33m\"\u001b[39m\u001b[33m📊 Portfolio Loss Ratio:\u001b[39m\u001b[33m\"\u001b[39m, compute_loss_ratio(df))\n",
      "\u001b[31mAttributeError\u001b[39m: 'StringMethods' object has no attribute 'lowerc'"
     ]
    }
   ],
   "source": [
    "from src.eda import compute_loss_ratio, group_loss_ratio\n",
    "df.columns = df.columns.str.lowerc()\n",
    "\n",
    "print(\"📊 Portfolio Loss Ratio:\", compute_loss_ratio(df))"
   ]
  },
  {
   "cell_type": "code",
   "execution_count": null,
   "id": "241e3a98",
   "metadata": {},
   "outputs": [],
   "source": [
    "from src.visualizations import plot_histogram, plot_boxplot, plot_loss_ratio_by_category\n",
    "\n",
    "# Plot numeric distributions\n",
    "for col in ['totalpremium', 'totalclaims', 'customvalueestimate']:\n",
    "    plot_histogram(df, col)\n",
    "    plot_boxplot(df, col)\n"
   ]
  },
  {
   "cell_type": "code",
   "execution_count": null,
   "id": "9c297aa8",
   "metadata": {},
   "outputs": [],
   "source": [
    "from src.eda import group_loss_ratio\n",
    "\n",
    "for cat in ['province', 'vehicletype', 'gender']:\n",
    "    if cat in df.columns:\n",
    "        grouped = group_loss_ratio(df, cat)\n",
    "        print(f\"\\n📍 Loss Ratio by {cat}:\")\n",
    "        print(grouped.head())"
   ]
  },
  {
   "cell_type": "code",
   "execution_count": null,
   "id": "fa9de3e5",
   "metadata": {},
   "outputs": [],
   "source": []
  }
 ],
 "metadata": {
  "kernelspec": {
   "display_name": ".venv",
   "language": "python",
   "name": "python3"
  },
  "language_info": {
   "codemirror_mode": {
    "name": "ipython",
    "version": 3
   },
   "file_extension": ".py",
   "mimetype": "text/x-python",
   "name": "python",
   "nbconvert_exporter": "python",
   "pygments_lexer": "ipython3",
   "version": "3.11.7"
  }
 },
 "nbformat": 4,
 "nbformat_minor": 5
}
