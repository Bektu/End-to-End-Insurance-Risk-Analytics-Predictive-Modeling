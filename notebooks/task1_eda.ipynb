{
 "cells": [
  {
   "cell_type": "code",
   "execution_count": null,
   "id": "70771252",
   "metadata": {},
   "outputs": [],
   "source": [
    "import sys\n",
    "import os\n",
    "\n",
    "sys.path.append(os.path.abspath(os.path.join(os.getcwd(), '..')))\n",
    "#src_path=os.path.abspath('../src')\n",
    "#sys.path.append(src_path)\n",
    "\n",
    "from src.data_loader import load_data, parse_dates\n",
    "from src.eda import compute_loss_ratio, group_loss_ratio, check_missing, get_summary_stats\n",
    "from src.visualizations import plot_histogram, plot_boxplot, plot_loss_ratio_by_category\n",
    "# Correct load using pipe delimiter\n",
    "df = load_data(\"../data/raw/MachineLearningRating_v3.txt\", sep=\"|\", encoding=\"utf-8\")\n",
    "print(\"✅ Shape:\", df.shape)\n",
    "print(\"✅ First 5 columns:\", df.columns.tolist()[:5])\n"
   ]
  },
  {
   "cell_type": "code",
   "execution_count": null,
   "id": "8d3428f9",
   "metadata": {},
   "outputs": [],
   "source": [
    "# Clean column names\n",
    "df.columns = df.columns.str.strip().str.replace(\" \", \"\")\n",
    "\n",
    "# ✅ Now parse the date\n",
    "df = parse_dates(df, date_column=\"transactionmonth\")\n",
    "\n",
    "# Confirm\n",
    "print(df[\"transactionmonth\"].head())\n",
    "print(df[\"transactionmonth\"].dtype)"
   ]
  },
  {
   "cell_type": "code",
   "execution_count": null,
   "id": "e66ac022",
   "metadata": {},
   "outputs": [],
   "source": [
    "\n",
    "# Data Quality Checks\n",
    "missing = check_missing(df)\n",
    "print(\"Missing values:\\n\", missing)\n"
   ]
  },
  {
   "cell_type": "code",
   "execution_count": null,
   "id": "d18c48e3",
   "metadata": {},
   "outputs": [],
   "source": [
    "# Clean column names\n",
    "df.columns = df.columns.str.strip()               # Remove leading/trailing whitespace\n",
    "df.columns = df.columns.str.replace(\" \", \"\")      # Remove internal spaces (optional)\n",
    "#df.columns = df.columns.str.lower()               # Convert to lowercase\n",
    "for col in df.columns:\n",
    "    print(col)\n"
   ]
  },
  {
   "cell_type": "code",
   "execution_count": null,
   "id": "d70c3ed4",
   "metadata": {},
   "outputs": [],
   "source": [
    "# --- Summary Stats for Financial Columns ---\n",
    "key_numeric = ['TotalPremium', 'TotalClaims', 'CustomValueEstimate']\n",
    "summary_stats = get_summary_stats(df, key_numeric)\n",
    "print(\"\\nSummary Stats:\\n\", summary_stats)"
   ]
  },
  {
   "cell_type": "code",
   "execution_count": null,
   "id": "3773b1eb",
   "metadata": {},
   "outputs": [],
   "source": [
    "# --- Portfolio-Level Loss Ratio ---\n",
    "portfolio_loss_ratio = compute_loss_ratio(df)\n",
    "print(\"\\n📊 Portfolio Loss Ratio:\", round(portfolio_loss_ratio, 3))"
   ]
  },
  {
   "cell_type": "code",
   "execution_count": null,
   "id": "241e3a98",
   "metadata": {},
   "outputs": [],
   "source": [
    "from src.visualizations import plot_histogram, plot_boxplot, plot_loss_ratio_by_category\n",
    "\n",
    "# Plot numeric distributions\n",
    "for col in ['TotalPremium', 'TotalClaims', 'CustomValueEstimate']:\n",
    "    plot_histogram(df, col)\n",
    "    plot_boxplot(df, col)\n",
    "\n",
    "# Plot loss ratios\n",
    "for cat in ['Province', 'VehicleType', 'Gender']:\n",
    "    if cat in df.columns:\n",
    "        grouped = group_loss_ratio(df, cat)\n",
    "        plot_loss_ratio_by_category(grouped, cat)"
   ]
  }
 ],
 "metadata": {
  "kernelspec": {
   "display_name": ".venv",
   "language": "python",
   "name": "python3"
  },
  "language_info": {
   "codemirror_mode": {
    "name": "ipython",
    "version": 3
   },
   "file_extension": ".py",
   "mimetype": "text/x-python",
   "name": "python",
   "nbconvert_exporter": "python",
   "pygments_lexer": "ipython3",
   "version": "3.11.7"
  }
 },
 "nbformat": 4,
 "nbformat_minor": 5
}
