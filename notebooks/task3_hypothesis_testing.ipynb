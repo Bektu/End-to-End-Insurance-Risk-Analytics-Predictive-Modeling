{
 "cells": [
  {
   "cell_type": "markdown",
   "id": "65beb336",
   "metadata": {},
   "source": [
    "# 📊 Task 3 – A/B Hypothesis Testing\n",
    "\n",
    "This notebook tests whether features such as Province, Gender, and Zipcode have statistically significant effects on risk and profitability."
   ]
  },
  {
   "cell_type": "code",
   "execution_count": null,
   "id": "ae8917bf",
   "metadata": {
    "vscode": {
     "languageId": "plaintext"
    }
   },
   "outputs": [],
   "source": [
    "import pandas as pd\n",
    "import sys\n",
    "import os\n",
    "\n",
    "sys.path.append(os.path.abspath(os.path.join(\"..\")))  # to access src/\n",
    "from src.analysis.hypothesis_testing import *\n",
    "\n",
    "# --- Load & Preprocess ---\n",
    "df = pd.read_csv(\"data/raw/MachineLearningRating_v3.txt\", sep=\"|\")\n",
    "df = preprocess_for_testing(df)"
   ]
  },
  {
   "cell_type": "code",
   "execution_count": null,
   "id": "2eccb0d7",
   "metadata": {
    "vscode": {
     "languageId": "plaintext"
    }
   },
   "outputs": [],
   "source": [
    "chi2, p = claim_frequency_test(df, \"Gender\")\n",
    "print(f\"Chi-squared test (Gender vs. HasClaim) p-value: {p}\")\n",
    "print(\"❌ Reject null hypothesis\" if p < 0.05 else \"✅ Fail to reject null\")\n"
   ]
  },
  {
   "cell_type": "code",
   "execution_count": null,
   "id": "f3eb3d50",
   "metadata": {
    "vscode": {
     "languageId": "plaintext"
    }
   },
   "outputs": [],
   "source": [
    "t_stat, p_val = claim_severity_ttest(df, \"Gender\", \"Male\", \"Female\")\n",
    "print(f\"T-test (claim severity by gender) p-value: {p_val}\")\n"
   ]
  },
  {
   "cell_type": "code",
   "execution_count": null,
   "id": "fe05f2e9",
   "metadata": {
    "vscode": {
     "languageId": "plaintext"
    }
   },
   "outputs": [],
   "source": [
    "f_stat, p_margin = margin_anova(df, \"Province\")\n",
    "print(f\"ANOVA (margin by Province) p-value: {p_margin}\")\n"
   ]
  },
  {
   "cell_type": "markdown",
   "id": "c8cee8a0",
   "metadata": {},
   "source": [
    "### ✅ Summary of Hypothesis Tests\n",
    "\n",
    "- Gender affects claim frequency? ✅/❌\n",
    "- Gender affects claim severity? ✅/❌\n",
    "- Province affects margin? ✅/❌\n",
    "- Zipcode affects risk? (optional large test)\n",
    "\n",
    "These results guide ACIS to adjust pricing or marketing strategy."
   ]
  }
 ],
 "metadata": {
  "language_info": {
   "name": "python"
  }
 },
 "nbformat": 4,
 "nbformat_minor": 5
}
